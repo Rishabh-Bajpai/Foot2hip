{
 "cells": [
  {
   "cell_type": "code",
   "execution_count": null,
   "metadata": {},
   "outputs": [],
   "source": [
    "#import libraries\n",
    "import scipy.io\n",
    "import numpy as np\n",
    "from keras.layers import Input, Conv2D, MaxPooling2D, UpSampling1D, Flatten, Reshape, Dense,Cropping1D, advanced_activations, BatchNormalization, Concatenate, LSTM, Dropout\n",
    "from keras.callbacks import ModelCheckpoint, EarlyStopping\n",
    "from tensorflow.keras.optimizers import Adam, SGD\n",
    "from keras.models import Model, Sequential\n",
    "from keras import losses\n",
    "from sklearn.model_selection import train_test_split\n",
    "from sklearn.metrics import mean_squared_error, classification_report, confusion_matrix\n",
    "import matplotlib.pyplot as plt\n",
    "import pickle"
   ]
  },
  {
   "cell_type": "code",
   "execution_count": null,
   "metadata": {},
   "outputs": [],
   "source": [
    "#load data in python runtime\n",
    "# 'data_foot2hip.mat' is the name of a matlab file (varioable) which contains ground truth, outsole and insole data\n",
    "tempData = scipy.io.loadmat('data_foot2hip.mat')"
   ]
  },
  {
   "cell_type": "code",
   "execution_count": null,
   "metadata": {},
   "outputs": [],
   "source": [
    "#Set fixed initial seed for random values\n",
    "np.random.seed(0)\n",
    "#Extract training and testing data from tempData variable\n",
    "trainX=tempData['data_X_train_norm']\n",
    "trainY=tempData['data_Y_train_norm']\n",
    "testX=tempData['data_X_test_norm']\n",
    "testY=tempData['data_Y_test_norm']\n",
    "# Reshape the data for further processing\n",
    "trainX=trainX.reshape(701930,150,7,1) #Make 4D array for CNN layers \n",
    "testX=testX.reshape(233970,150,7,1) #Make 4D array for CNN layers \n",
    "#each data point of trainX or testX has data of 5 seconds, six distances (foot to ground) and CoP.\n",
    "#each data point of trainY or testY has data of knee, hip and ankle joint angles."
   ]
  },
  {
   "cell_type": "code",
   "execution_count": null,
   "metadata": {},
   "outputs": [],
   "source": [
    "#define model the architecture of Foot2hip\n",
    "model = Sequential()\n",
    "model.add(Conv2D(filters=32, kernel_size=(3,1), activation='relu',padding='same',input_shape=(150, 7,1))) \n",
    "model.add(MaxPooling2D(pool_size=(2, 1)))\n",
    "model.add(Conv2D(64, (3, 1), activation='relu', padding='same'))\n",
    "model.add(MaxPooling2D(pool_size=(2, 1)))\n",
    "model.add(Conv2D(1, (3, 1), activation='relu', padding='same'))\n",
    "model.add(Reshape((37,7)))\n",
    "model.add(LSTM(64, activation='relu', input_shape=(37, trainX.shape[2]), return_sequences=True))\n",
    "model.add(LSTM(32, activation='relu', return_sequences=False))\n",
    "model.add(Dense(128,activation='linear'))\n",
    "model.add(Dense(64,activation='linear'))\n",
    "model.add(Dense(trainY.shape[1],activation='linear'))\n",
    "\n",
    "adam = Adam(learning_rate=0.001, beta_1=0.9, beta_2=0.999)\n",
    "model.compile(optimizer=adam, loss='mse')\n",
    "model.summary()"
   ]
  },
  {
   "cell_type": "code",
   "execution_count": null,
   "metadata": {},
   "outputs": [],
   "source": [
    "# Train the model\n",
    "checkpointer = ModelCheckpoint(filepath='./foot2hip.hdf5', verbose = 1, save_best_only = True) # verbose =1 is for printing the output\n",
    "es = EarlyStopping(monitor='val_loss', mode='min', verbose=1, patience=10)\n",
    "history = model.fit(trainX, trainY, epochs=150,batch_size=16, callbacks = [checkpointer,es], validation_split=0.2, verbose=1)"
   ]
  },
  {
   "cell_type": "code",
   "execution_count": null,
   "metadata": {},
   "outputs": [],
   "source": [
    "#training history\n",
    "#plot\n",
    "plt.plot(history.history['loss'], label='Training loss')\n",
    "plt.plot(history.history['val_loss'], label='Validation loss')\n",
    "plt.legend()\n",
    "#saving the losses\n",
    "with open('loss', 'wb') as f:\n",
    "    pickle.dump(history.history['loss'], f)\n",
    "with open('val_loss', 'wb') as f:\n",
    "    pickle.dump(history.history['val_loss'], f)"
   ]
  },
  {
   "cell_type": "code",
   "execution_count": null,
   "metadata": {},
   "outputs": [],
   "source": [
    "#De-standardization of the data\n",
    "X_test_mean=tempData['X_test_mean'] #X_test_mean is mean of test input data\n",
    "Y_test_mean=tempData['Y_test_mean']#Y_test_mean is mean of test output data\n",
    "X_test_std=tempData['X_test_std']#X_test_std is mean of test input data\n",
    "Y_test_std=tempData['Y_test_std']#Y_test_std is mean of test output data\n",
    "Y_test_std=np.squeeze(Y_test_std)\n",
    "Y_test_mean=np.squeeze(Y_test_mean)\n",
    "X_test_mean=X_test_mean.reshape(1,150,7,1)\n",
    "X_test_std=X_test_std.reshape(1,150,7,1)\n",
    "X_test_scaled=testX*X_test_std+X_test_mean #De-standardization of the data\n",
    "Y_test_scaled=testY*Y_test_std+Y_test_mean #De-standardization of the data"
   ]
  },
  {
   "cell_type": "code",
   "execution_count": null,
   "metadata": {},
   "outputs": [],
   "source": [
    "#ploting the predicted and original angle profiles\n",
    "sample_start=7000 #use any number\n",
    "prediction = model.predict(testX[sample_start:sample_start+30,0:150,0:7]) \n",
    "plt.plot(prediction, color='r')\n",
    "plt.plot(testY[sample_start:sample_start+30], label='Ground Truth', color='b')\n",
    "plt.legend()\n",
    "plt.show()\n",
    "\n",
    "prediction_scaled=prediction*Y_test_std+Y_test_mean\n",
    "plt.plot(prediction_scaled, color='r')  \n",
    "plt.plot(Y_test_scaled[sample_start:sample_start+30], label='Ground Truth', color='b')\n",
    "plt.legend()"
   ]
  }
 ],
 "metadata": {
  "kernelspec": {
   "display_name": "Python 3",
   "language": "python",
   "name": "python3"
  },
  "language_info": {
   "codemirror_mode": {
    "name": "ipython",
    "version": 3
   },
   "file_extension": ".py",
   "mimetype": "text/x-python",
   "name": "python",
   "nbconvert_exporter": "python",
   "pygments_lexer": "ipython3",
   "version": "3.7.9"
  }
 },
 "nbformat": 4,
 "nbformat_minor": 2
}
